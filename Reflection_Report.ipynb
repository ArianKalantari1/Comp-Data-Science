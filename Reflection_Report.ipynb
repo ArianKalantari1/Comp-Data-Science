{
 "cells": [
  {
   "cell_type": "markdown",
   "id": "5c447fe5-b30e-449f-88b3-b5b745405121",
   "metadata": {},
   "source": [
    "# Reflective Report for Portfolio 4"
   ]
  },
  {
   "cell_type": "markdown",
   "id": "8d64154d-a55f-48bc-8b83-c68f4ad52f90",
   "metadata": {
    "jp-MarkdownHeadingCollapsed": true,
    "tags": []
   },
   "source": [
    "## Problem Solving Process\n",
    "\n",
    "In portfolio 4, we first defined the problem:\n",
    "1. How can we accurately predict customer's satisfaction through a survey taken by a customer together with their information?\n",
    "1. How might we improve the customer's satisfaction?\n",
    "\n",
    "First task is related to classification, and that is why I started with testing several classification models' performance. Here, I first choose 3 models that were taught in the lecture, Logistic Regression, Gaussian and MLP (MultiLayer Perceptron) methods. Each model goes through a tuning process to improve the prediction accuracy. To validate the model and conclude which model performs better, I took 10 x samples by applying a cross validation technique. These samples are used to perform statistical analysis to see the difference among them, then I concluded that the tuned MLP model performed the best among the 6 models. In this task, prediction accuracy is used to measure performance, however, if there is another measurement such as time taken to train the model this would result indifferently.\n",
    "\n",
    "Second question stemmed from EDA, why there is a difference among groups of customers. What factor contributes to their satisfaction? After exploring the dataset, I noticed that there is a huge difference between flight classes as well as whether customers are regular or not. So I first split the data, and checked that there is a gap between services provided before boarding the flight and in the flight. I then decided to train a Random Tree model to visualise how machine devides the dataset. As mentioned above, there is clearly a difference among classes, so the machine devides the data in that mannar first, then use another variable such as 'inflight-wifi' or 'entertainment' as separators (which I thought would be helpful to see groupings.) Finally, thanks to the visualisation outputs, I concluded that there are several areas for possible improvement."
   ]
  },
  {
   "cell_type": "markdown",
   "id": "e178345b-88b9-416a-8223-6a455d878b79",
   "metadata": {
    "tags": []
   },
   "source": [
    "## Progress from the Beginning of the Unit\n",
    "\n",
    "At first, I had no idea in this field especially with machine-learning. Before univerity, I had a chance to explore real data from clients with python language and wondered how we can streamline some of the analysis and maybe replace some of the tasks with AI or with simple algorithms. However this unit goes beyond what I knew, and that made me realise that I have to learn a lot of new things to add more value to the usual data-analysis. For example, what is the difference between 2 groups of customers at a gym, do they have some trates that are unique to them? This type of information is useful for any marketing campaigns as well as the maintenance of customer satisfaction.\n",
    "\n",
    "As I'm interested in how machines see data and how we can draw some insights from its point of view **(interpretation of the machine learning outputs.)** In future, I would like to apply machine learning techniques to data analysis to uncover the truth behind the data that is hard for human to see any patterns. I'm also hoping to see ethical application of AI/Machine Learning to businesses."
   ]
  },
  {
   "cell_type": "markdown",
   "id": "3cbb2e10-50fc-4340-a763-c1e05fb9cbb5",
   "metadata": {},
   "source": [
    "## Portfolio 4 Discussion Points:\n",
    "\n",
    "**Several points to discuss:**\n",
    "- How to identify the problem\n",
    "- Conclusions against the expectation\n",
    "\n",
    "Usually in this type of dataset that is equavalent to net promoter survey (example questions found [here](https://www.retently.com/blog/nps-survey-templates/#:~:text=The%20classic%20NPS%20question%20is,customers'%20satisfaction%20with%20your%20company)), corporates can explore the satisfaction rate from promoters against the score from passives/detractors. This way they can find possible area of improvements. So in here, the critical question to be answered should not be ***\"How accurately predict satisfaction of customers from the survey and their information\"***, the question should be ***\"How might we fill the gap between satisfied and unsatisfied customers?\"*** OR ***\"Is there any difference between groups?, If so can we do something about that?\"*** I answered both of them, however the data analysis part is more important tompare to modeling part especially for corporates as they can get the meaningful insights from the data that can drive more satisfaction hence converting customers to regulars, therefore better LTV (Life Time Value).\n",
    "\n",
    "I assume that the typical data analysis is time consuming and sometimes humans miss patterns the data presents (or some patterns are hard to capture with human eyes), that is why I wanted to explore the possibility of the machine learning to help visualise the data. In order to do that, I decided to use Random Tree Classifier, and made sure that we worked on sub-trees (I splitted the dataset by regulars OR by classes). Moreover, to visualise better as well as to reduce the risk of overfitting I tuned the model first. Unfortunately the terminal trees were not as pure, but from the node with the higher infromation gain we can tell there are some patterns in data. Assuming that the comparing NPS scores can also achieve to the similar conclusion without machine learning techniques, but I wanted to demonstrate the possibility of application, so the next step would be to validate if there will be more critical insights from machines against man-handled data analysis.\n",
    "\n",
    "***Conclusion of the improvement areas in business:***\n",
    "- **Searvices that lead to the check-in**\n",
    "    - Online Boarding with ease is a good starting point in their customer journey.\n",
    "- **Services to the flight**\n",
    "    - Check-In at the gate without hassle could improve their satisfaction.\n",
    "    - Customers want their baggage to be looked after for what they paid.\n",
    "- **Services available in the flight**\n",
    "    - Wifi Connectivity for those who purchased the service\n",
    "    - In-flight entertainment experience may need further improvement to distract customers\n",
    "    - General Hygene (Toilet Cleanliness or Seat/Floor Cleanliness) has room of improvement at the eco, eco plus classes."
   ]
  }
 ],
 "metadata": {
  "kernelspec": {
   "display_name": "Python 3 (ipykernel)",
   "language": "python",
   "name": "python3"
  },
  "language_info": {
   "codemirror_mode": {
    "name": "ipython",
    "version": 3
   },
   "file_extension": ".py",
   "mimetype": "text/x-python",
   "name": "python",
   "nbconvert_exporter": "python",
   "pygments_lexer": "ipython3",
   "version": "3.11.5"
  }
 },
 "nbformat": 4,
 "nbformat_minor": 5
}
